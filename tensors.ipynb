{
 "cells": [
  {
   "cell_type": "code",
   "execution_count": 11,
   "metadata": {},
   "outputs": [
    {
     "name": "stdout",
     "output_type": "stream",
     "text": [
      "2.0.0+cu117\n"
     ]
    }
   ],
   "source": [
    "# Import ML framework and tabular, discretised, and plotting libraries.\n",
    "import torch, pandas as pd, numpy as np, matplotlib.pyplot as plt\n",
    "\n",
    "print(torch.__version__)"
   ]
  },
  {
   "cell_type": "code",
   "execution_count": 12,
   "metadata": {},
   "outputs": [
    {
     "name": "stdout",
     "output_type": "stream",
     "text": [
      "0 1\n",
      "1 torch.Size([2])\n",
      "2 torch.Size([2, 2])\n",
      "3 torch.Size([1, 4, 6])\n"
     ]
    }
   ],
   "source": [
    "# 1D value : Lower(a)\n",
    "scalar = 1\n",
    "scalar_tensor = torch.tensor(scalar)\n",
    "print(scalar_tensor.ndim,scalar_tensor.item())\n",
    "\n",
    "# Recall that vectors have magnitude and direction : Lower(y)\n",
    "vector = [1,2]\n",
    "vector_tensor = torch.tensor(vector)\n",
    "print(vector_tensor.ndim,vector_tensor.shape)\n",
    "\n",
    "# 2D values : Upper(Q)\n",
    "matrix = [[2,5],[4,3]]\n",
    "matrix_tensor = torch.tensor(matrix)\n",
    "print(matrix_tensor.ndim,matrix_tensor.shape)\n",
    "\n",
    "#n-dimensional matrix structure : Upper(X)\n",
    "tensor = torch.rand(1,4,6)\n",
    "print(tensor.ndim,tensor.shape)"
   ]
  },
  {
   "cell_type": "code",
   "execution_count": 13,
   "metadata": {},
   "outputs": [
    {
     "data": {
      "text/plain": [
       "torch.float32"
      ]
     },
     "execution_count": 13,
     "metadata": {},
     "output_type": "execute_result"
    }
   ],
   "source": [
    "# Create image tensor characteristic\n",
    "random_img = torch.rand(size=(3,224,224)) # h, w, channels (RGB)\n",
    "\n",
    "# Zero/Ones tensor\n",
    "zero_tensor = torch.zeros(size=(3,224,224))\n",
    "ones_tensor = torch.ones(size=(3,224,224))\n",
    "\n",
    "# data types\n",
    "ones_tensor.dtype"
   ]
  },
  {
   "cell_type": "code",
   "execution_count": 23,
   "metadata": {},
   "outputs": [
    {
     "name": "stdout",
     "output_type": "stream",
     "text": [
      "torch.float32 cuda:0 False\n",
      "Location of min value: 128642, Location of max value: 131468\n",
      "tensor(2., device='cuda:0', dtype=torch.float16)\n"
     ]
    }
   ],
   "source": [
    "# Torch ranges and tensor operations\n",
    "x = torch.arange(start=1,end=11,step=1)\n",
    "ten_zeros = torch.zeros_like(x)\n",
    "\n",
    "f32 = torch.tensor([1,2,3],dtype=torch.float32,device=\"cuda\",requires_grad=False)\n",
    "print(f32.dtype,f32.device,f32.requires_grad)\n",
    "\n",
    "## Tensor datatypes, shape and device are most common errors.\n",
    "f16 = f32.type(torch.float16)\n",
    "\n",
    "# Tensor operations\n",
    "## Tensors operate just like np arrays.\n",
    "\n",
    "random_img.shape\n",
    "\n",
    "torch.matmul(random_img,random_img)\n",
    "a = torch.argmin(random_img)\n",
    "b = torch.argmax(random_img)\n",
    "print(f\"Location of min value: {a}, Location of max value: {b}\".format(a=a, b=b))\n",
    "print(torch.mean(f16))"
   ]
  },
  {
   "cell_type": "code",
   "execution_count": 35,
   "metadata": {},
   "outputs": [
    {
     "ename": "RuntimeError",
     "evalue": "permute(sparse_coo): number of dimensions in the tensor input does not match the length of the desired ordering of dimensions i.e. input.dim() = 1 is not equal to len(dims) = 2",
     "output_type": "error",
     "traceback": [
      "\u001b[0;31m---------------------------------------------------------------------------\u001b[0m",
      "\u001b[0;31mRuntimeError\u001b[0m                              Traceback (most recent call last)",
      "Cell \u001b[0;32mIn[35], line 13\u001b[0m\n\u001b[1;32m     10\u001b[0m x\u001b[39m.\u001b[39msqueeze() \u001b[39m# remove all single dimensions\u001b[39;00m\n\u001b[1;32m     11\u001b[0m x\u001b[39m.\u001b[39munsqueeze(dim\u001b[39m=\u001b[39m\u001b[39m0\u001b[39m) \u001b[39m# add a dimension\u001b[39;00m\n\u001b[0;32m---> 13\u001b[0m torch\u001b[39m.\u001b[39;49mpermute(x,(\u001b[39m0\u001b[39;49m,\u001b[39m1\u001b[39;49m)) \u001b[39m# permute dimensions\u001b[39;00m\n",
      "\u001b[0;31mRuntimeError\u001b[0m: permute(sparse_coo): number of dimensions in the tensor input does not match the length of the desired ordering of dimensions i.e. input.dim() = 1 is not equal to len(dims) = 2"
     ]
    }
   ],
   "source": [
    "# Reshaping tensors\n",
    "\n",
    "# m * n must = number of elements\n",
    "x.reshape(5,2)\n",
    "\n",
    "# tensor.view() is an alternative to reshape\n",
    "\n",
    "torch.stack([x,x,x],dim=0)\n",
    "\n",
    "x.squeeze() # remove all single dimensions\n",
    "x.unsqueeze(dim=0) # add a dimension\n",
    "\n",
    "# torch.permute() rearranges the dimensions order"
   ]
  },
  {
   "cell_type": "code",
   "execution_count": 49,
   "metadata": {},
   "outputs": [
    {
     "name": "stdout",
     "output_type": "stream",
     "text": [
      "tensor([[1, 2, 3],\n",
      "        [4, 5, 6],\n",
      "        [7, 8, 9]]) \n",
      " tensor([[1, 2, 3]]) \n",
      " tensor([[3, 6, 9]])\n"
     ]
    }
   ],
   "source": [
    "# Tensor Indexing\n",
    "x = torch.arange(1,10).reshape(1,3,3)\n",
    "# x[first dimension, second dimension, third dimension]\n",
    "#x[0,0,0] is the same as x[0][0][0]\n",
    "\n",
    "print(x[0],\"\\n\",x[:,0],\"\\n\",x[:,:,2])"
   ]
  },
  {
   "cell_type": "code",
   "execution_count": 59,
   "metadata": {},
   "outputs": [
    {
     "name": "stdout",
     "output_type": "stream",
     "text": [
      "tensor([[1.1734, 1.1895, 1.3603],\n",
      "        [1.1895, 1.7859, 1.6664],\n",
      "        [1.3603, 1.6664, 2.1616]], device='cuda:0')\n"
     ]
    }
   ],
   "source": [
    "device = \"cuda\" if torch.cuda.is_available() else \"cpu\"\n",
    "\n",
    "tensor = torch.rand(size=(3,3),device=device)\n",
    "# if not on GPU, tensor_on_gpu = tensor.to(device)\n",
    "# to compute numpy, tensor_on_gpu.cpu().numpy() cuz numpy can't compute on GPU"
   ]
  },
  {
   "cell_type": "code",
   "execution_count": 66,
   "metadata": {},
   "outputs": [
    {
     "name": "stdout",
     "output_type": "stream",
     "text": [
      "tensor([[1.3299],\n",
      "        [1.8111],\n",
      "        [1.3228],\n",
      "        [0.9725],\n",
      "        [1.8285],\n",
      "        [1.4806],\n",
      "        [2.0489]])\n",
      "tensor(0.7668, device='cuda:0') tensor(0.2786, device='cuda:0') \n",
      " tensor(1, device='cuda:0') tensor(0, device='cuda:0')\n",
      "torch.Size([1, 1, 1, 10]) torch.Size([10])\n"
     ]
    }
   ],
   "source": [
    "# Creating and multiplying random tensors in a contained seed\n",
    "SEED = 42\n",
    "torch.manual_seed(SEED)\n",
    "random_tensor = torch.rand(size=(7,7))\n",
    "multiplication = torch.matmul(random_tensor,torch.rand(size=(1,7)).T)\n",
    "print(multiplication)\n",
    "\n",
    "# GPU Seed\n",
    "torch.cuda.manual_seed(1234)\n",
    "tensor_one, tensor_two = torch.rand(size=(2,3),device=\"cuda\"), torch.rand(size=(2,3),device=\"cuda\")\n",
    "final = torch.matmul(tensor_one,tensor_two.T)\n",
    "print(final.max(),final.min(),\"\\n\",final.argmax(),final.argmin())\n",
    "\n",
    "torch.manual_seed(7)\n",
    "tensor_large = torch.rand(size=(1,1,1,10))\n",
    "tensor_shrunk = torch.squeeze(tensor_large)\n",
    "print(tensor_large.shape,tensor_shrunk.shape)"
   ]
  }
 ],
 "metadata": {
  "kernelspec": {
   "display_name": "packages",
   "language": "python",
   "name": "python3"
  },
  "language_info": {
   "codemirror_mode": {
    "name": "ipython",
    "version": 3
   },
   "file_extension": ".py",
   "mimetype": "text/x-python",
   "name": "python",
   "nbconvert_exporter": "python",
   "pygments_lexer": "ipython3",
   "version": "3.11.3"
  },
  "orig_nbformat": 4
 },
 "nbformat": 4,
 "nbformat_minor": 2
}
