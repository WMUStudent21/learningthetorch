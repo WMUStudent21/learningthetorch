{
 "cells": [
  {
   "cell_type": "code",
   "execution_count": 6,
   "metadata": {},
   "outputs": [
    {
     "name": "stdout",
     "output_type": "stream",
     "text": [
      "2.0.0+cu117\n"
     ]
    }
   ],
   "source": [
    "# Import ML framework and tabular, discretised, and plotting libraries.\n",
    "import torch, pandas as pd, numpy as np, matplotlib.pyplot as plt\n",
    "\n",
    "print(torch.__version__)"
   ]
  },
  {
   "cell_type": "code",
   "execution_count": 19,
   "metadata": {},
   "outputs": [
    {
     "name": "stdout",
     "output_type": "stream",
     "text": [
      "0 1\n",
      "1 torch.Size([2])\n",
      "2 torch.Size([2, 2])\n",
      "3 torch.Size([1, 4, 6])\n"
     ]
    }
   ],
   "source": [
    "# 1D value : Lower(a)\n",
    "scalar = 1\n",
    "scalar_tensor = torch.tensor(scalar)\n",
    "print(scalar_tensor.ndim,scalar_tensor.item())\n",
    "\n",
    "# Recall that vectors have magnitude and direction : Lower(y)\n",
    "vector = [1,2]\n",
    "vector_tensor = torch.tensor(vector)\n",
    "print(vector_tensor.ndim,vector_tensor.shape)\n",
    "\n",
    "# 2D values : Upper(Q)\n",
    "matrix = [[2,5],[4,3]]\n",
    "matrix_tensor = torch.tensor(matrix)\n",
    "print(matrix_tensor.ndim,matrix_tensor.shape)\n",
    "\n",
    "#n-dimensional matrix structure : Upper(X)\n",
    "tensor = torch.rand(1,4,6)\n",
    "print(tensor.ndim,tensor.shape)"
   ]
  },
  {
   "cell_type": "code",
   "execution_count": 22,
   "metadata": {},
   "outputs": [
    {
     "data": {
      "text/plain": [
       "tensor([[[0.0617, 0.7724, 0.2934,  ..., 0.8288, 0.9361, 0.1776],\n",
       "         [0.5934, 0.6004, 0.6522,  ..., 0.2355, 0.3800, 0.5674],\n",
       "         [0.8595, 0.2680, 0.5847,  ..., 0.5858, 0.1380, 0.0852],\n",
       "         ...,\n",
       "         [0.6701, 0.9145, 0.7701,  ..., 0.7940, 0.0607, 0.9084],\n",
       "         [0.5997, 0.0141, 0.7017,  ..., 0.5680, 0.9469, 0.5563],\n",
       "         [0.9488, 0.8532, 0.7259,  ..., 0.1475, 0.0754, 0.1036]],\n",
       "\n",
       "        [[0.6610, 0.9108, 0.8901,  ..., 0.8294, 0.8713, 0.3270],\n",
       "         [0.8659, 0.9766, 0.7170,  ..., 0.8059, 0.1245, 0.1352],\n",
       "         [0.4960, 0.9520, 0.9350,  ..., 0.9338, 0.8289, 0.4930],\n",
       "         ...,\n",
       "         [0.8921, 0.2819, 0.2036,  ..., 0.2967, 0.9557, 0.2751],\n",
       "         [0.6165, 0.1793, 0.6647,  ..., 0.5569, 0.8914, 0.5510],\n",
       "         [0.4035, 0.9397, 0.6587,  ..., 0.9169, 0.2158, 0.1399]],\n",
       "\n",
       "        [[0.9003, 0.2023, 0.7051,  ..., 0.2017, 0.5604, 0.4166],\n",
       "         [0.9255, 0.1636, 0.6811,  ..., 0.4274, 0.0168, 0.9802],\n",
       "         [0.8940, 0.1932, 0.8025,  ..., 0.3428, 0.8401, 0.2224],\n",
       "         ...,\n",
       "         [0.1928, 0.5175, 0.4844,  ..., 0.2774, 0.0178, 0.7239],\n",
       "         [0.5018, 0.5398, 0.2972,  ..., 0.5283, 0.1329, 0.8125],\n",
       "         [0.7004, 0.6486, 0.7884,  ..., 0.9660, 0.2257, 0.1072]]])"
      ]
     },
     "execution_count": 22,
     "metadata": {},
     "output_type": "execute_result"
    }
   ],
   "source": [
    "# Create image tensor characteristic\n",
    "random_img = torch.rand(size=(3,224,224)) # h, w, channels (RGB)"
   ]
  }
 ],
 "metadata": {
  "kernelspec": {
   "display_name": "packages",
   "language": "python",
   "name": "python3"
  },
  "language_info": {
   "codemirror_mode": {
    "name": "ipython",
    "version": 3
   },
   "file_extension": ".py",
   "mimetype": "text/x-python",
   "name": "python",
   "nbconvert_exporter": "python",
   "pygments_lexer": "ipython3",
   "version": "3.11.3"
  },
  "orig_nbformat": 4
 },
 "nbformat": 4,
 "nbformat_minor": 2
}
